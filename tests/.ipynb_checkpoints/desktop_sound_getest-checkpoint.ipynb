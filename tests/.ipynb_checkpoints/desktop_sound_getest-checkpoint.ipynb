{
 "cells": [
  {
   "cell_type": "code",
   "execution_count": 1,
   "metadata": {},
   "outputs": [],
   "source": [
    "%load_ext autoreload"
   ]
  },
  {
   "cell_type": "code",
   "execution_count": 1,
   "metadata": {},
   "outputs": [],
   "source": [
    "#brew install portaudio\n",
    "import pyaudio\n",
    "from pprint import pprint\n",
    "import wave\n"
   ]
  },
  {
   "cell_type": "code",
   "execution_count": 20,
   "metadata": {},
   "outputs": [
    {
     "name": "stdout",
     "output_type": "stream",
     "text": [
      "['Background Music', 0, 'Background Music (UI Sounds)', 1, 'BlackHole 16ch', 2, '外部ヘッドフォン', 3, 'MacBook Proのマイク', 4, 'MacBook Proのスピーカー', 5, 'Soundflower (2ch)', 6, 'Soundflower (64ch)', 7]\n"
     ]
    }
   ],
   "source": [
    "# detect devices:\n",
    "p = pyaudio.PyAudio()\n",
    "host_info = p.get_host_api_info_by_index(0)    \n",
    "device_count = host_info.get('deviceCount')\n",
    "devices = []\n",
    "\n",
    "# iterate betweeNn devices:\n",
    "for i in range(0, device_count):\n",
    "    device = p.get_device_info_by_host_api_device_index(0, i)\n",
    "#     pprint(device[.])\n",
    "    devices.append(device['name'])\n",
    "    devices.append(device['index'])\n",
    "\n",
    "print (devices)\n"
   ]
  },
  {
   "cell_type": "code",
   "execution_count": 23,
   "metadata": {},
   "outputs": [
    {
     "name": "stdout",
     "output_type": "stream",
     "text": [
      "* recording\n",
      "* done recording\n"
     ]
    }
   ],
   "source": [
    "CHUNK = 1024\n",
    "FORMAT = pyaudio.paInt16 # int16型\n",
    "CHANNELS = 2             # ステレオ\n",
    "RATE = 44100             # 441.kHz\n",
    "RECORD_SECONDS = 10       # 5秒録音\n",
    "WAVE_OUTPUT_FILENAME = \"output.wav\"\n",
    "\n",
    "p = pyaudio.PyAudio()\n",
    "\n",
    "stream = p.open(format=FORMAT,\n",
    "                channels=CHANNELS,\n",
    "                rate=RATE,\n",
    "                input=True,\n",
    "                frames_per_buffer=CHUNK,\n",
    "                input_device_index=2\n",
    "                )\n",
    "stream_out = p.open(format=FORMAT,\n",
    "                channels=CHANNELS,\n",
    "                rate=RATE,\n",
    "                output=True,\n",
    "                frames_per_buffer=CHUNK,\n",
    "#                 input_device_index=3,\n",
    "                output_device_index=3\n",
    "                )\n",
    "# input_device_index=0\n",
    "print(\"* recording\")\n",
    "\n",
    "frames = []\n",
    "\n",
    "for i in range(0, int(RATE / CHUNK * RECORD_SECONDS)):\n",
    "    data = stream.read(CHUNK)\n",
    "    stream_out.write(data)\n",
    "    frames.append(data)\n",
    "\n",
    "print(\"* done recording\")\n",
    "\n",
    "stream.stop_stream()\n",
    "stream.close()\n",
    "p.terminate()\n",
    "\n",
    "# memory\n",
    "wf = wave.open(WAVE_OUTPUT_FILENAME, 'wb')\n",
    "wf.setnchannels(CHANNELS)\n",
    "wf.setsampwidth(p.get_sample_size(FORMAT))\n",
    "wf.setframerate(RATE)\n",
    "wf.writeframes(b''.join(frames))\n",
    "wf.close()"
   ]
  },
  {
   "cell_type": "code",
   "execution_count": null,
   "metadata": {},
   "outputs": [],
   "source": []
  },
  {
   "cell_type": "code",
   "execution_count": 17,
   "metadata": {},
   "outputs": [
    {
     "ename": "SyntaxError",
     "evalue": "invalid syntax (<ipython-input-17-633ed74db5af>, line 47)",
     "output_type": "error",
     "traceback": [
      "\u001b[0;36m  File \u001b[0;32m\"<ipython-input-17-633ed74db5af>\"\u001b[0;36m, line \u001b[0;32m47\u001b[0m\n\u001b[0;31m    print(\"\")\u001b[0m\n\u001b[0m    ^\u001b[0m\n\u001b[0;31mSyntaxError\u001b[0m\u001b[0;31m:\u001b[0m invalid syntax\n"
     ]
    }
   ],
   "source": [
    "import pyaudio\n",
    "import numpy as np\n",
    "import scipy.io.wavfile \n",
    "\n",
    "RATE = 12000\n",
    "def record_audio(output_name):\n",
    "    CHUNK = 1024\n",
    "    FORMAT = pyaudio.paFloat32\n",
    "    CHANNELS = 1\n",
    "\n",
    "    pa = pyaudio.PyAudio()\n",
    "    stream = pa.open(rate=RATE,\n",
    "        channels=CHANNELS,\n",
    "        format=FORMAT,\n",
    "        input=True,\n",
    "        frames_per_buffer=CHUNK)\n",
    "\n",
    "    print(\"RECORD START\")\n",
    "    print(\"ctrl-C : STOP RECORDING\")\n",
    "\n",
    "    # RECORDING ###############\n",
    "    # Stop with Ctrl-C\n",
    "    frame = []\n",
    "    while True:\n",
    "        try:\n",
    "            # Record\n",
    "            d = stream.read(CHUNK)\n",
    "            d = np.frombuffer(d, dtype=np.float32)   # convert numpy   \n",
    "            frame.append(d)\n",
    "\n",
    "        except KeyboardInterrupt:\n",
    "            # Ctrl - c  \n",
    "            break\n",
    "    # END # RECORDING ###############\n",
    "\n",
    "    # CLOSE\n",
    "    stream.stop_stream()\n",
    "    stream.close()\n",
    "    pa.terminate()\n",
    "\n",
    "    # Numpy Array\n",
    "    frame = np.array(frame).flatten()\n",
    "    print(\"STOP {} samples  {:.2f}s\".format(frame.size, frame.size/RATE))\n",
    "    # Write Wavfile with scipy module\n",
    "    scipy.io.wavfile.write(output_name, RATE, frame)\n",
    "    print(\"OUTPUT: {}\".format(basename(output_name))\n",
    "    print(\"\")"
   ]
  },
  {
   "cell_type": "code",
   "execution_count": null,
   "metadata": {},
   "outputs": [],
   "source": []
  }
 ],
 "metadata": {
  "kernelspec": {
   "display_name": "Python 3",
   "language": "python",
   "name": "python3"
  },
  "language_info": {
   "codemirror_mode": {
    "name": "ipython",
    "version": 3
   },
   "file_extension": ".py",
   "mimetype": "text/x-python",
   "name": "python",
   "nbconvert_exporter": "python",
   "pygments_lexer": "ipython3",
   "version": "3.8.5"
  }
 },
 "nbformat": 4,
 "nbformat_minor": 4
}
