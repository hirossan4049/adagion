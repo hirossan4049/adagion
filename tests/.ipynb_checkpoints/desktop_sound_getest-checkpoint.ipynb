{
 "cells": [
  {
   "cell_type": "code",
   "execution_count": 1,
   "metadata": {},
   "outputs": [],
   "source": [
    "%load_ext autoreload"
   ]
  },
  {
   "cell_type": "code",
   "execution_count": 2,
   "metadata": {},
   "outputs": [],
   "source": [
    "#brew install portaudio\n",
    "import pyaudio\n",
    "from pprint import pprint\n",
    "import wave\n",
    "import subprocess\n",
    "\n",
    "now_outplayer = subprocess.check_output(['./AudioSwitcher','-c']).decode().replace('\\n','')\n",
    "blackhole_name = \"BlackHole 16ch\""
   ]
  },
  {
   "cell_type": "code",
   "execution_count": 3,
   "metadata": {},
   "outputs": [
    {
     "name": "stdout",
     "output_type": "stream",
     "text": [
      "{'defaultHighInputLatency': 0.1,\n",
      " 'defaultHighOutputLatency': 0.011609977324263039,\n",
      " 'defaultLowInputLatency': 0.01,\n",
      " 'defaultLowOutputLatency': 0.0014512471655328798,\n",
      " 'defaultSampleRate': 44100.0,\n",
      " 'hostApi': 0,\n",
      " 'index': 6,\n",
      " 'maxInputChannels': 2,\n",
      " 'maxOutputChannels': 2,\n",
      " 'name': 'Soundflower (2ch)',\n",
      " 'structVersion': 2}\n",
      "\n",
      "\n",
      "{'Background Music': 0, 'Background Music (UI Sounds)': 1, 'BlackHole 16ch': 2, '外部ヘッドフォン': 3, 'MacBook Proのマイク': 4, 'MacBook Proのスピーカー': 5, 'Soundflower (2ch)': 6, 'Soundflower (64ch)': 7}\n",
      "\n",
      "\n",
      "\n",
      "3\n",
      "2\n"
     ]
    }
   ],
   "source": [
    "# detect devices:\n",
    "p = pyaudio.PyAudio()\n",
    "host_info = p.get_host_api_info_by_index(0)    \n",
    "pprint(p.get_default_input_device_info())\n",
    "print(\"\\n\")\n",
    "\n",
    "device_count = host_info.get('deviceCount')\n",
    "devices = {}\n",
    "\n",
    "# iterate betweeNn devices:\n",
    "for i in range(0, device_count):\n",
    "    device = p.get_device_info_by_host_api_device_index(0, i)\n",
    "#     pprint(device)\n",
    "    devices[device['name']] = device['index']\n",
    "\n",
    "print(devices)\n",
    "print(\"\\n\\n\")\n",
    "now_outplayer_index = devices[now_outplayer]\n",
    "blackhole_index = devices[blackhole_name]\n",
    "\n",
    "print(now_outplayer_index)\n",
    "print(blackhole_index)\n"
   ]
  },
  {
   "cell_type": "code",
   "execution_count": 4,
   "metadata": {},
   "outputs": [
    {
     "name": "stdout",
     "output_type": "stream",
     "text": [
      "* recording\n",
      "* done recording\n",
      "<class 'bytes'>\n"
     ]
    },
    {
     "data": {
      "text/plain": [
       "'output audio device set to \"外部ヘッドフォン\"'"
      ]
     },
     "execution_count": 4,
     "metadata": {},
     "output_type": "execute_result"
    }
   ],
   "source": [
    "# change default devices to blackhole\n",
    "subprocess.check_output(['./AudioSwitcher','-s',blackhole_name]).decode().replace('\\n','')\n",
    "# ===========\n",
    "\n",
    "\n",
    "CHUNK = 1024\n",
    "FORMAT = pyaudio.paInt16 # int16型\n",
    "CHANNELS = 2             # ステレオ\n",
    "RATE = 44100             # 441.kHz\n",
    "RECORD_SECONDS = 10       # 5秒録音\n",
    "WAVE_OUTPUT_FILENAME = \"output.wav\"\n",
    "\n",
    "p = pyaudio.PyAudio()\n",
    "\n",
    "stream = p.open(format=FORMAT,\n",
    "                channels=CHANNELS,\n",
    "                rate=RATE,\n",
    "                input=True,\n",
    "                frames_per_buffer=CHUNK,\n",
    "                input_device_index=blackhole_index\n",
    "                )\n",
    "stream_out = p.open(format=FORMAT,\n",
    "                channels=CHANNELS,\n",
    "                rate=RATE,\n",
    "                output=True,\n",
    "                frames_per_buffer=CHUNK,\n",
    "#                 input_device_index=3,\n",
    "                output_device_index=now_outplayer_index\n",
    "                )\n",
    "# input_device_index=0\n",
    "print(\"* recording\")\n",
    "\n",
    "frames = []\n",
    "\n",
    "for i in range(0, int(RATE / CHUNK * RECORD_SECONDS)):\n",
    "    data = stream.read(CHUNK)\n",
    "    stream_out.write(data)\n",
    "    frames.append(data)\n",
    "\n",
    "print(\"* done recording\")\n",
    "\n",
    "stream.stop_stream()\n",
    "stream.close()\n",
    "p.terminate()\n",
    "\n",
    "# memory\n",
    "wf = wave.open(WAVE_OUTPUT_FILENAME, 'wb')\n",
    "wf.setnchannels(CHANNELS)\n",
    "wf.setsampwidth(p.get_sample_size(FORMAT))\n",
    "wf.setframerate(RATE)\n",
    "wf.writeframes(b''.join(frames))\n",
    "wf.close()\n",
    "\n",
    "print(type(frames[0]))\n",
    "\n",
    "\n",
    "#  default reset.\n",
    "subprocess.check_output(['./AudioSwitcher','-s',now_outplayer]).decode().replace('\\n','')\n",
    "# ==========="
   ]
  },
  {
   "cell_type": "code",
   "execution_count": null,
   "metadata": {},
   "outputs": [],
   "source": []
  },
  {
   "cell_type": "code",
   "execution_count": 17,
   "metadata": {},
   "outputs": [
    {
     "ename": "SyntaxError",
     "evalue": "invalid syntax (<ipython-input-17-633ed74db5af>, line 47)",
     "output_type": "error",
     "traceback": [
      "\u001b[0;36m  File \u001b[0;32m\"<ipython-input-17-633ed74db5af>\"\u001b[0;36m, line \u001b[0;32m47\u001b[0m\n\u001b[0;31m    print(\"\")\u001b[0m\n\u001b[0m    ^\u001b[0m\n\u001b[0;31mSyntaxError\u001b[0m\u001b[0;31m:\u001b[0m invalid syntax\n"
     ]
    }
   ],
   "source": [
    "import pyaudio\n",
    "import numpy as np\n",
    "import scipy.io.wavfile \n",
    "\n",
    "RATE = 12000\n",
    "def record_audio(output_name):\n",
    "    CHUNK = 1024\n",
    "    FORMAT = pyaudio.paFloat32\n",
    "    CHANNELS = 1\n",
    "\n",
    "    pa = pyaudio.PyAudio()\n",
    "    stream = pa.open(rate=RATE,\n",
    "        channels=CHANNELS,\n",
    "        format=FORMAT,\n",
    "        input=True,\n",
    "        frames_per_buffer=CHUNK)\n",
    "\n",
    "    print(\"RECORD START\")\n",
    "    print(\"ctrl-C : STOP RECORDING\")\n",
    "\n",
    "    # RECORDING ###############\n",
    "    # Stop with Ctrl-C\n",
    "    frame = []\n",
    "    while True:\n",
    "        try:\n",
    "            # Record\n",
    "            d = stream.read(CHUNK)\n",
    "            d = np.frombuffer(d, dtype=np.float32)   # convert numpy   \n",
    "            frame.append(d)\n",
    "\n",
    "        except KeyboardInterrupt:\n",
    "            # Ctrl - c  \n",
    "            break\n",
    "    # END # RECORDING ###############\n",
    "\n",
    "    # CLOSE\n",
    "    stream.stop_stream()\n",
    "    stream.close()\n",
    "    pa.terminate()\n",
    "\n",
    "    # Numpy Array\n",
    "    frame = np.array(frame).flatten()\n",
    "    print(\"STOP {} samples  {:.2f}s\".format(frame.size, frame.size/RATE))\n",
    "    # Write Wavfile with scipy module\n",
    "    scipy.io.wavfile.write(output_name, RATE, frame)\n",
    "    print(\"OUTPUT: {}\".format(basename(output_name))\n",
    "    print(\"\")"
   ]
  },
  {
   "cell_type": "code",
   "execution_count": null,
   "metadata": {},
   "outputs": [],
   "source": []
  },
  {
   "cell_type": "code",
   "execution_count": null,
   "metadata": {},
   "outputs": [],
   "source": []
  },
  {
   "cell_type": "code",
   "execution_count": 45,
   "metadata": {},
   "outputs": [
    {
     "name": "stdout",
     "output_type": "stream",
     "text": [
      "MacBook Proのスピーカー\n",
      "\n"
     ]
    }
   ],
   "source": [
    "import subprocess\n",
    "\n",
    "nowplayer = subprocess.check_output(['./AudioSwitcher','-c']).decode()\n",
    "\n",
    "print(nowplayer)\n"
   ]
  },
  {
   "cell_type": "code",
   "execution_count": null,
   "metadata": {},
   "outputs": [
    {
     "name": "stdout",
     "output_type": "stream",
     "text": [
      "* recording\n"
     ]
    }
   ],
   "source": [
    "CHUNK = 1024\n",
    "FORMAT = pyaudio.paInt16 # int16型\n",
    "CHANNELS = 2             # ステレオ\n",
    "RATE = 44100             # 441.kHz\n",
    "RECORD_SECONDS = 10       # 5秒録音\n",
    "\n",
    "stream = p.open(format=FORMAT,\n",
    "                channels=CHANNELS,\n",
    "                rate=RATE,\n",
    "                input=True,\n",
    "                frames_per_buffer=CHUNK,\n",
    "                input_device_index=blackhole_index\n",
    "                )\n",
    "stream_out = p.open(format=FORMAT,\n",
    "                channels=CHANNELS,\n",
    "                rate=RATE,\n",
    "                output=True,\n",
    "                frames_per_buffer=CHUNK,\n",
    "#                 input_device_index=3,\n",
    "                output_device_index=now_outplayer_index\n",
    "                )\n",
    "# input_device_index=0\n",
    "print(\"* recording\")\n",
    "\n",
    "\n",
    "\n",
    "while True:\n",
    "    data = stream.read(CHUNK)\n",
    "    stream_out.write(data)\n",
    "\n",
    "\n",
    "\n",
    "stream.stop_stream()\n",
    "stream.close()\n",
    "p.terminate()"
   ]
  },
  {
   "cell_type": "code",
   "execution_count": 6,
   "metadata": {},
   "outputs": [
    {
     "ename": "ModuleNotFoundError",
     "evalue": "No module named 'moviepy'",
     "output_type": "error",
     "traceback": [
      "\u001b[0;31m---------------------------------------------------------------------------\u001b[0m",
      "\u001b[0;31mModuleNotFoundError\u001b[0m                       Traceback (most recent call last)",
      "\u001b[0;32m<ipython-input-6-129f6fe4d64b>\u001b[0m in \u001b[0;36m<module>\u001b[0;34m\u001b[0m\n\u001b[1;32m      1\u001b[0m \u001b[0;31m# mp4 in wav\u001b[0m\u001b[0;34m\u001b[0m\u001b[0;34m\u001b[0m\u001b[0;34m\u001b[0m\u001b[0m\n\u001b[1;32m      2\u001b[0m \u001b[0;34m\u001b[0m\u001b[0m\n\u001b[0;32m----> 3\u001b[0;31m \u001b[0;32mimport\u001b[0m \u001b[0mmoviepy\u001b[0m\u001b[0;34m.\u001b[0m\u001b[0meditor\u001b[0m \u001b[0;32mas\u001b[0m \u001b[0mmp\u001b[0m\u001b[0;34m\u001b[0m\u001b[0;34m\u001b[0m\u001b[0m\n\u001b[0m",
      "\u001b[0;31mModuleNotFoundError\u001b[0m: No module named 'moviepy'"
     ]
    }
   ],
   "source": [
    "# mp4 in wav\n",
    "\n",
    "ff = FFmpeg(inputs={'test.mp4': None, 'tester.wav': None},\n",
    "            outputs={'output.mp4': '-c:v copy -c:a aac -map 0:v:0 -map 1:a:0'})\n"
   ]
  },
  {
   "cell_type": "code",
   "execution_count": null,
   "metadata": {},
   "outputs": [],
   "source": []
  }
 ],
 "metadata": {
  "kernelspec": {
   "display_name": "Python 3",
   "language": "python",
   "name": "python3"
  },
  "language_info": {
   "codemirror_mode": {
    "name": "ipython",
    "version": 3
   },
   "file_extension": ".py",
   "mimetype": "text/x-python",
   "name": "python",
   "nbconvert_exporter": "python",
   "pygments_lexer": "ipython3",
   "version": "3.8.5"
  }
 },
 "nbformat": 4,
 "nbformat_minor": 4
}
